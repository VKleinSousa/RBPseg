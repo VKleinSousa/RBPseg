{
 "cells": [
  {
   "cell_type": "code",
   "execution_count": 18,
   "id": "04a91217-fb9e-435e-baee-d2093ffe620b",
   "metadata": {},
   "outputs": [
    {
     "data": {
      "application/vnd.jupyter.widget-view+json": {
       "model_id": "bf90f94bd772436fbe7b1018d0a4e74b",
       "version_major": 2,
       "version_minor": 0
      },
      "text/plain": [
       "Sigma(nx.Graph with 2,264 nodes and 9,214 edges)"
      ]
     },
     "metadata": {},
     "output_type": "display_data"
    }
   ],
   "source": [
    "import networkx as nx\n",
    "import pandas as pd\n",
    "import seaborn as sns\n",
    "from ipysigma import Sigma\n",
    "import numpy as np\n",
    "\n",
    "\n",
    "merged_df = pd.read_csv('atlas_tc_dclasses.csv')\n",
    "# Step 1: Create a graph object\n",
    "G = nx.Graph()\n",
    "\n",
    "# Generate the tab20 palette using Seaborn\n",
    "palette = sns.color_palette(\"tab20\", 20)  # Generate 20 distinct colors (for TC0 to TC17, plus two more)\n",
    "\n",
    "# Create a dictionary to map TC categories to colors\n",
    "tc_palette = {f'TC{i}': f'rgb({int(r*255)}, {int(g*255)}, {int(b*255)})' for i, (r, g, b) in enumerate(palette[:18])}\n",
    "\n",
    "# Add colors for 'family' and 'domain' categories\n",
    "tc_palette['family'] = f'rgb({int(palette[18][0]*255)}, {int(palette[18][1]*255)}, {int(palette[18][2]*255)})'\n",
    "tc_palette['domain'] = f'rgb({int(palette[19][0]*255)}, {int(palette[19][1]*255)}, {int(palette[19][2]*255)})'\n",
    "\n",
    "# Step 2: Add edges between TCs, subfamilies, and D_classes based on shared occurrences in rows\n",
    "for index, row in merged_df.iterrows():\n",
    "    tc = row['TC']\n",
    "    subfamily = row['subfamilies']\n",
    "    domains = row['D_classes']\n",
    "    names = row['Names']\n",
    "    evalue_tc = row['E-value_1_x']\n",
    "    evalue_D = row['E-value_1_y']\n",
    "    \n",
    "    # Add nodes for TC, subfamily, domains, and names\n",
    "    G.add_node(tc, type='TC', tc_category=tc)\n",
    "    G.add_node(subfamily, type='subfamily or family', tc_category='family')\n",
    "    G.add_node(domains, type='D_classes', tc_category='domain')\n",
    "    G.add_node(names, type='Names', tc_category='Names')\n",
    "    \n",
    "    # Calculate weights for edges\n",
    "    weight_tc_subfamily = len(merged_df[(merged_df['TC'] == tc) & (merged_df['subfamilies'] == subfamily)])\n",
    "    weight_tc_domains = len(merged_df[(merged_df['TC'] == tc) & (merged_df['D_classes'] == domains)])\n",
    "    weight_domains_subfamily = len(merged_df[(merged_df['D_classes'] == domains) & (merged_df['subfamilies'] == subfamily)])\n",
    "\n",
    "    # Add edges with weights and evalues only where applicable\n",
    "    G.add_edge(tc, subfamily, weight=weight_tc_subfamily) \n",
    "    G.add_edge(tc, domains, weight=weight_tc_domains)     \n",
    "    G.add_edge(domains, subfamily, weight=weight_domains_subfamily)  \n",
    "    G.add_edge(subfamily, names)                            \n",
    "    G.add_edge(domains, names, evalue=evalue_D)            \n",
    "    G.add_edge(tc, names, evalue=evalue_tc)                \n",
    "\n",
    "# Step 3: Assign degrees to nodes for size scaling\n",
    "for node in G.nodes():\n",
    "    G.nodes[node]['degree'] = G.degree(node)\n",
    "    G.nodes[node]['color'] = tc_palette.get(G.nodes[node]['tc_category'], 'grey')  # Default to grey if no category color\n",
    "\n",
    "# Displaying the graph with ipysigma using the custom palette\n",
    "sigma = Sigma(\n",
    "    G,\n",
    "    node_color=\"tc_category\",      # Color nodes by the 'tc_category' attribute\n",
    "    node_color_palette=tc_palette,\n",
    "    node_metrics=['louvain'],\n",
    "    node_size_range=(3, 30),\n",
    "    max_categorical_colors=20,\n",
    "    edge_size='weight',\n",
    "    edge_size_range=(1, 30),\n",
    "    edge_label='evalue',\n",
    "    default_edge_type='curve',\n",
    "    node_border_color_from='node',\n",
    "    default_node_label_size=24,\n",
    "    node_size='degree'\n",
    ")\n",
    "\n",
    "display(sigma)\n"
   ]
  },
  {
   "cell_type": "code",
   "execution_count": 21,
   "id": "842c2cbf-c15b-4517-8838-c9e3a1eeef0b",
   "metadata": {},
   "outputs": [
    {
     "data": {
      "application/vnd.jupyter.widget-view+json": {
       "model_id": "20584e6cad6547459ea0e3cf7d5e5729",
       "version_major": 2,
       "version_minor": 0
      },
      "text/plain": [
       "Output(outputs=({'output_type': 'stream', 'name': 'stdout', 'text': 'Rendering snapshot from widget (are you s…"
      ]
     },
     "execution_count": 21,
     "metadata": {},
     "output_type": "execute_result"
    }
   ],
   "source": [
    "sigma.render_snapshot()"
   ]
  },
  {
   "cell_type": "code",
   "execution_count": null,
   "id": "38f2d00d-29d9-4520-a260-4efce20bb3db",
   "metadata": {},
   "outputs": [],
   "source": []
  }
 ],
 "metadata": {
  "kernelspec": {
   "display_name": "Python 3 (ipykernel)",
   "language": "python",
   "name": "python3"
  },
  "language_info": {
   "codemirror_mode": {
    "name": "ipython",
    "version": 3
   },
   "file_extension": ".py",
   "mimetype": "text/x-python",
   "name": "python",
   "nbconvert_exporter": "python",
   "pygments_lexer": "ipython3",
   "version": "3.11.9"
  }
 },
 "nbformat": 4,
 "nbformat_minor": 5
}
